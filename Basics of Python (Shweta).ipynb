{
 "cells": [
  {
   "cell_type": "code",
   "execution_count": 1,
   "id": "c404b191",
   "metadata": {},
   "outputs": [
    {
     "name": "stdout",
     "output_type": "stream",
     "text": [
      "Shweta\n"
     ]
    }
   ],
   "source": [
    "#Printing a text in python\n",
    "\n",
    "print(\"Shweta\")"
   ]
  },
  {
   "cell_type": "code",
   "execution_count": 2,
   "id": "f9593911",
   "metadata": {},
   "outputs": [
    {
     "name": "stdout",
     "output_type": "stream",
     "text": [
      "['False', 'None', 'True', 'and', 'as', 'assert', 'async', 'await', 'break', 'class', 'continue', 'def', 'del', 'elif', 'else', 'except', 'finally', 'for', 'from', 'global', 'if', 'import', 'in', 'is', 'lambda', 'nonlocal', 'not', 'or', 'pass', 'raise', 'return', 'try', 'while', 'with', 'yield']\n"
     ]
    }
   ],
   "source": [
    "#Importing \"keyword\" package and printing the keyword list\n",
    "\n",
    "import keyword\n",
    "print(keyword.kwlist)"
   ]
  },
  {
   "cell_type": "code",
   "execution_count": 3,
   "id": "69441a02",
   "metadata": {},
   "outputs": [
    {
     "name": "stdout",
     "output_type": "stream",
     "text": [
      "35\n"
     ]
    }
   ],
   "source": [
    "#Checking the length of Keyword list\n",
    "\n",
    "print(len(keyword.kwlist))"
   ]
  },
  {
   "cell_type": "code",
   "execution_count": 4,
   "id": "89c37537",
   "metadata": {},
   "outputs": [
    {
     "name": "stdout",
     "output_type": "stream",
     "text": [
      "<class 'int'>\n"
     ]
    }
   ],
   "source": [
    "#Checking the type of a variable(Integer)\n",
    "\n",
    "a=2\n",
    "print(type(a))"
   ]
  },
  {
   "cell_type": "code",
   "execution_count": 5,
   "id": "6ba839c4",
   "metadata": {},
   "outputs": [
    {
     "name": "stdout",
     "output_type": "stream",
     "text": [
      "<class 'float'>\n"
     ]
    }
   ],
   "source": [
    "#Checking the type of a variable(Float)\n",
    "\n",
    "a=2.2\n",
    "print(type(a))"
   ]
  },
  {
   "cell_type": "code",
   "execution_count": 6,
   "id": "b5a504b5",
   "metadata": {},
   "outputs": [
    {
     "name": "stdout",
     "output_type": "stream",
     "text": [
      "<class 'int'>\n"
     ]
    }
   ],
   "source": [
    "#\"type\" is independent of negation\n",
    "\n",
    "a=-2\n",
    "print(type(a))"
   ]
  },
  {
   "cell_type": "code",
   "execution_count": 7,
   "id": "d3f0feae",
   "metadata": {},
   "outputs": [
    {
     "name": "stdout",
     "output_type": "stream",
     "text": [
      "<class 'float'>\n"
     ]
    }
   ],
   "source": [
    "a=-0.2\n",
    "print(type(a))"
   ]
  },
  {
   "cell_type": "code",
   "execution_count": 9,
   "id": "83ada738",
   "metadata": {},
   "outputs": [
    {
     "name": "stdout",
     "output_type": "stream",
     "text": [
      "<class 'complex'>\n",
      "1.0\n",
      "2.0\n"
     ]
    }
   ],
   "source": [
    "#Checking the type of a variable(Complex)\n",
    "\n",
    "a=1+2J\n",
    "print(type(a))\n",
    "print(a.real)\n",
    "print(a.imag)"
   ]
  },
  {
   "cell_type": "markdown",
   "id": "a5d57280",
   "metadata": {},
   "source": [
    "# TYPE CASTING"
   ]
  },
  {
   "cell_type": "code",
   "execution_count": 10,
   "id": "af5ebf76",
   "metadata": {},
   "outputs": [
    {
     "name": "stdout",
     "output_type": "stream",
     "text": [
      "1\n"
     ]
    }
   ],
   "source": [
    "#Boolean assignment\n",
    "\n",
    "a=True\n",
    "print(int(a))"
   ]
  },
  {
   "cell_type": "code",
   "execution_count": 11,
   "id": "7456b82c",
   "metadata": {},
   "outputs": [
    {
     "name": "stdout",
     "output_type": "stream",
     "text": [
      "0\n"
     ]
    }
   ],
   "source": [
    "a=False\n",
    "print(int(a))"
   ]
  },
  {
   "cell_type": "code",
   "execution_count": 12,
   "id": "399cda0c",
   "metadata": {},
   "outputs": [
    {
     "ename": "TypeError",
     "evalue": "int() argument must be a string, a bytes-like object or a real number, not 'complex'",
     "output_type": "error",
     "traceback": [
      "\u001b[1;31m---------------------------------------------------------------------------\u001b[0m",
      "\u001b[1;31mTypeError\u001b[0m                                 Traceback (most recent call last)",
      "Cell \u001b[1;32mIn[12], line 2\u001b[0m\n\u001b[0;32m      1\u001b[0m a\u001b[38;5;241m=\u001b[39m\u001b[38;5;241m4\u001b[39m\u001b[38;5;241m+\u001b[39m\u001b[38;5;241m2\u001b[39mJ\n\u001b[1;32m----> 2\u001b[0m \u001b[38;5;28mprint\u001b[39m(\u001b[38;5;28;43mint\u001b[39;49m\u001b[43m(\u001b[49m\u001b[43ma\u001b[49m\u001b[43m)\u001b[49m)\n",
      "\u001b[1;31mTypeError\u001b[0m: int() argument must be a string, a bytes-like object or a real number, not 'complex'"
     ]
    }
   ],
   "source": [
    "#The below print statement is wrong\n",
    "\n",
    "a=4+2J  \n",
    "print(int(a))  #As the variable is complex, we cannot return it as integer"
   ]
  },
  {
   "cell_type": "code",
   "execution_count": 13,
   "id": "38c778d2",
   "metadata": {},
   "outputs": [
    {
     "ename": "ValueError",
     "evalue": "invalid literal for int() with base 10: 'Shweta'",
     "output_type": "error",
     "traceback": [
      "\u001b[1;31m---------------------------------------------------------------------------\u001b[0m",
      "\u001b[1;31mValueError\u001b[0m                                Traceback (most recent call last)",
      "Cell \u001b[1;32mIn[13], line 2\u001b[0m\n\u001b[0;32m      1\u001b[0m a\u001b[38;5;241m=\u001b[39m\u001b[38;5;124m\"\u001b[39m\u001b[38;5;124mShweta\u001b[39m\u001b[38;5;124m\"\u001b[39m\n\u001b[1;32m----> 2\u001b[0m \u001b[38;5;28mprint\u001b[39m(\u001b[38;5;28;43mint\u001b[39;49m\u001b[43m(\u001b[49m\u001b[43ma\u001b[49m\u001b[43m)\u001b[49m)\n",
      "\u001b[1;31mValueError\u001b[0m: invalid literal for int() with base 10: 'Shweta'"
     ]
    }
   ],
   "source": [
    "#The below print statement is wrong\n",
    "\n",
    "a=\"Shweta\" \n",
    "print(int(a))  #As the variable is String, we cannot return it as integer"
   ]
  },
  {
   "cell_type": "code",
   "execution_count": 15,
   "id": "16eda852",
   "metadata": {},
   "outputs": [
    {
     "ename": "ValueError",
     "evalue": "invalid literal for int() with base 10: '100.01'",
     "output_type": "error",
     "traceback": [
      "\u001b[1;31m---------------------------------------------------------------------------\u001b[0m",
      "\u001b[1;31mValueError\u001b[0m                                Traceback (most recent call last)",
      "Cell \u001b[1;32mIn[15], line 2\u001b[0m\n\u001b[0;32m      1\u001b[0m a\u001b[38;5;241m=\u001b[39m\u001b[38;5;124m\"\u001b[39m\u001b[38;5;124m100.01\u001b[39m\u001b[38;5;124m\"\u001b[39m\n\u001b[1;32m----> 2\u001b[0m \u001b[38;5;28mprint\u001b[39m(\u001b[38;5;28;43mint\u001b[39;49m\u001b[43m(\u001b[49m\u001b[43ma\u001b[49m\u001b[43m)\u001b[49m)\n",
      "\u001b[1;31mValueError\u001b[0m: invalid literal for int() with base 10: '100.01'"
     ]
    }
   ],
   "source": [
    "a=\"100.01\"\n",
    "print(int(a))  #As the variable is float, we cannot return it as integer"
   ]
  },
  {
   "cell_type": "markdown",
   "id": "c3e0f850",
   "metadata": {},
   "source": [
    "### NOTE : ONLY INTEGRAL STRING IS POSSIBLE TO CONVERT INTO INTEGER"
   ]
  },
  {
   "cell_type": "code",
   "execution_count": 14,
   "id": "68fcdd06",
   "metadata": {},
   "outputs": [
    {
     "name": "stdout",
     "output_type": "stream",
     "text": [
      "100\n"
     ]
    }
   ],
   "source": [
    "a=\"100\"\n",
    "print(int(a))"
   ]
  },
  {
   "cell_type": "code",
   "execution_count": 16,
   "id": "78c2c6ff",
   "metadata": {},
   "outputs": [
    {
     "name": "stdout",
     "output_type": "stream",
     "text": [
      "100.01\n"
     ]
    }
   ],
   "source": [
    "a=\"100.01\"\n",
    "print(float(a))"
   ]
  },
  {
   "cell_type": "code",
   "execution_count": 17,
   "id": "3af31b3e",
   "metadata": {},
   "outputs": [
    {
     "name": "stdout",
     "output_type": "stream",
     "text": [
      "100.0\n"
     ]
    }
   ],
   "source": [
    "a=\"100\"\n",
    "print(float(a))"
   ]
  },
  {
   "cell_type": "code",
   "execution_count": 18,
   "id": "892b2b29",
   "metadata": {},
   "outputs": [
    {
     "name": "stdout",
     "output_type": "stream",
     "text": [
      "1.0\n"
     ]
    }
   ],
   "source": [
    "a=True\n",
    "print(float(a))"
   ]
  },
  {
   "cell_type": "code",
   "execution_count": 19,
   "id": "de3e9750",
   "metadata": {},
   "outputs": [
    {
     "name": "stdout",
     "output_type": "stream",
     "text": [
      "0.0\n"
     ]
    }
   ],
   "source": [
    "a=False\n",
    "print(float(a))"
   ]
  },
  {
   "cell_type": "markdown",
   "id": "c7fc9083",
   "metadata": {},
   "source": [
    "### NOTE : ONLY INTEGRAL AND FLOATING STRING CAN BE CONVERTED INTO FLOAT"
   ]
  },
  {
   "cell_type": "code",
   "execution_count": 20,
   "id": "fba2b571",
   "metadata": {},
   "outputs": [
    {
     "name": "stdout",
     "output_type": "stream",
     "text": [
      "False\n"
     ]
    }
   ],
   "source": [
    "a=0\n",
    "print(bool(a))"
   ]
  },
  {
   "cell_type": "code",
   "execution_count": 21,
   "id": "871a5f2e",
   "metadata": {},
   "outputs": [
    {
     "name": "stdout",
     "output_type": "stream",
     "text": [
      "False\n"
     ]
    }
   ],
   "source": [
    "a=''\n",
    "print(bool(a))"
   ]
  },
  {
   "cell_type": "code",
   "execution_count": 22,
   "id": "fafb1ac4",
   "metadata": {},
   "outputs": [
    {
     "name": "stdout",
     "output_type": "stream",
     "text": [
      "False\n"
     ]
    }
   ],
   "source": [
    "a=None\n",
    "print(bool(a))"
   ]
  },
  {
   "cell_type": "code",
   "execution_count": 23,
   "id": "a97bc159",
   "metadata": {},
   "outputs": [
    {
     "name": "stdout",
     "output_type": "stream",
     "text": [
      "True\n"
     ]
    }
   ],
   "source": [
    "a=2\n",
    "print(bool(a))"
   ]
  },
  {
   "cell_type": "code",
   "execution_count": 24,
   "id": "3b810073",
   "metadata": {},
   "outputs": [
    {
     "name": "stdout",
     "output_type": "stream",
     "text": [
      "True\n"
     ]
    }
   ],
   "source": [
    "a=-2\n",
    "print(bool(a))"
   ]
  },
  {
   "cell_type": "markdown",
   "id": "18e89c1a",
   "metadata": {},
   "source": [
    "### NOTE : EXCEPT 0, EMPTY STRING AND NONE WE WILL GET TRUE RESULT."
   ]
  }
 ],
 "metadata": {
  "kernelspec": {
   "display_name": "Python 3 (ipykernel)",
   "language": "python",
   "name": "python3"
  },
  "language_info": {
   "codemirror_mode": {
    "name": "ipython",
    "version": 3
   },
   "file_extension": ".py",
   "mimetype": "text/x-python",
   "name": "python",
   "nbconvert_exporter": "python",
   "pygments_lexer": "ipython3",
   "version": "3.11.1"
  }
 },
 "nbformat": 4,
 "nbformat_minor": 5
}
